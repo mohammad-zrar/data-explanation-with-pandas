{
 "cells": [
  {
   "cell_type": "code",
   "execution_count": 1,
   "id": "4edf3085",
   "metadata": {},
   "outputs": [],
   "source": [
    "import pandas as pd\n",
    "df = pd.read_csv('salaries_by_college_major.csv')\n",
    "clean_df = df.dropna()"
   ]
  },
  {
   "cell_type": "code",
   "execution_count": 12,
   "id": "58d6f66a",
   "metadata": {},
   "outputs": [
    {
     "name": "stdout",
     "output_type": "stream",
     "text": [
      "What college major has the highest mid-career salary?\n",
      "Chemical Engineering\n",
      "--------------------------------------------------\n",
      "Which college major has the lowest starting salary and how much do graduates earn after university?\n",
      "Spanish :  34000.0\n",
      "--------------------------------------------------\n",
      "Which college major has the lowest mid-career salary and how much can people expect to earn with this degree? \n",
      "Education :  52000.0\n"
     ]
    }
   ],
   "source": [
    "# Challenge-597\n",
    "\n",
    "print(\"What college major has the highest mid-career salary?\")\n",
    "idx = clean_df['Mid-Career Median Salary'].idxmax()\n",
    "print(clean_df['Undergraduate Major'][idx])\n",
    "\n",
    "print(\"-\"*50)\n",
    "\n",
    "print(\"Which college major has the lowest starting salary and how much do graduates earn after university?\")\n",
    "idx = clean_df['Starting Median Salary'].idxmin()\n",
    "print(clean_df['Undergraduate Major'][idx],\": \", clean_df['Starting Median Salary'][idx])\n",
    "\n",
    "print(\"-\"*50)\n",
    "\n",
    "print(\"Which college major has the lowest mid-career salary and how much can people expect to earn with this degree? \")\n",
    "idx = clean_df['Mid-Career Median Salary'].idxmin()\n",
    "print(clean_df['Undergraduate Major'][idx],\": \", clean_df['Mid-Career Median Salary'][idx])\n"
   ]
  },
  {
   "cell_type": "code",
   "execution_count": 18,
   "id": "9008d731",
   "metadata": {},
   "outputs": [
    {
     "data": {
      "text/html": [
       "<div>\n",
       "<style scoped>\n",
       "    .dataframe tbody tr th:only-of-type {\n",
       "        vertical-align: middle;\n",
       "    }\n",
       "\n",
       "    .dataframe tbody tr th {\n",
       "        vertical-align: top;\n",
       "    }\n",
       "\n",
       "    .dataframe thead th {\n",
       "        text-align: right;\n",
       "    }\n",
       "</style>\n",
       "<table border=\"1\" class=\"dataframe\">\n",
       "  <thead>\n",
       "    <tr style=\"text-align: right;\">\n",
       "      <th></th>\n",
       "      <th>Undergraduate Major</th>\n",
       "      <th>Spread</th>\n",
       "    </tr>\n",
       "  </thead>\n",
       "  <tbody>\n",
       "    <tr>\n",
       "      <th>17</th>\n",
       "      <td>Economics</td>\n",
       "      <td>159400.0</td>\n",
       "    </tr>\n",
       "    <tr>\n",
       "      <th>22</th>\n",
       "      <td>Finance</td>\n",
       "      <td>147800.0</td>\n",
       "    </tr>\n",
       "    <tr>\n",
       "      <th>37</th>\n",
       "      <td>Math</td>\n",
       "      <td>137800.0</td>\n",
       "    </tr>\n",
       "    <tr>\n",
       "      <th>36</th>\n",
       "      <td>Marketing</td>\n",
       "      <td>132900.0</td>\n",
       "    </tr>\n",
       "    <tr>\n",
       "      <th>42</th>\n",
       "      <td>Philosophy</td>\n",
       "      <td>132500.0</td>\n",
       "    </tr>\n",
       "  </tbody>\n",
       "</table>\n",
       "</div>"
      ],
      "text/plain": [
       "   Undergraduate Major    Spread\n",
       "17           Economics  159400.0\n",
       "22             Finance  147800.0\n",
       "37                Math  137800.0\n",
       "36           Marketing  132900.0\n",
       "42          Philosophy  132500.0"
      ]
     },
     "execution_count": 18,
     "metadata": {},
     "output_type": "execute_result"
    }
   ],
   "source": [
    "# Challenge-598\n",
    "\n",
    "# Using the .sort_values() method, can you find the degrees with the highest potential?\n",
    "# Find the top 5 degrees with the highest values in the 90th percentile. \n",
    "highest_potential = clean_df.sort_values('Mid-Career 90th Percentile Salary', ascending=False)\n",
    "highest_potential[['Undergraduate Major', 'Mid-Career 90th Percentile Salary']].head()\n",
    "\n",
    "\n",
    "# Also, find the degrees with the greatest spread in salaries. \n",
    "# Which majors have the largest difference between high and low earners after graduation.\n",
    "\n",
    "# spread_col = clean_df['Mid-Career 90th Percentile Salary'] - clean_df['Mid-Career 10th Percentile Salary']\n",
    "# clean_df.insert(1, 'Spread', spread_col)\n",
    "low_risk = clean_df.sort_values('Spread', ascending=False)\n",
    "low_risk[['Undergraduate Major', 'Spread']].head()"
   ]
  },
  {
   "cell_type": "code",
   "execution_count": null,
   "id": "2051ac5a",
   "metadata": {},
   "outputs": [],
   "source": [
    "\n",
    "\n",
    "\n",
    "\n",
    "\n",
    "\n",
    "\n",
    "\n",
    "\n",
    "\n",
    "\n"
   ]
  }
 ],
 "metadata": {
  "kernelspec": {
   "display_name": "Python 3 (ipykernel)",
   "language": "python",
   "name": "python3"
  },
  "language_info": {
   "codemirror_mode": {
    "name": "ipython",
    "version": 3
   },
   "file_extension": ".py",
   "mimetype": "text/x-python",
   "name": "python",
   "nbconvert_exporter": "python",
   "pygments_lexer": "ipython3",
   "version": "3.9.13"
  }
 },
 "nbformat": 4,
 "nbformat_minor": 5
}
